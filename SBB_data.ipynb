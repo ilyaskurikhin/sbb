{
 "cells": [
  {
   "cell_type": "code",
   "execution_count": null,
   "metadata": {
    "collapsed": false
   },
   "outputs": [],
   "source": [
    "import csv\n",
    "import operator\n",
    "import os\n",
    "\n",
    "from trainstop import *\n",
    "from locations import *\n",
    "from dateconversion import *"
   ]
  },
  {
   "cell_type": "code",
   "execution_count": null,
   "metadata": {
    "collapsed": false,
    "scrolled": true
   },
   "outputs": [],
   "source": [
    "data_by_date = {}\n",
    "\n",
    "for filename in os.listdir('./data'):\n",
    "    date = datetime.date(int(filename[0:4]),int(filename[5:7]),int(filename[8:10]))\n",
    "    file = open(\"data/\" + date.isoformat() + \"_IstDaten.csv\")\n",
    "    data_by_date[date] = csv.DictReader(file, delimiter=';')\n",
    "\n"
   ]
  },
  {
   "cell_type": "code",
   "execution_count": null,
   "metadata": {
    "collapsed": false
   },
   "outputs": [],
   "source": [
    "#import data from files\n",
    "\n",
    "train_stops = []\n",
    "    \n",
    "for date in data_by_date:\n",
    "    for train in data_by_date[date]:\n",
    "        train_stops.append(create_train_stop(train))"
   ]
  },
  {
   "cell_type": "code",
   "execution_count": null,
   "metadata": {
    "collapsed": false
   },
   "outputs": [],
   "source": []
  },
  {
   "cell_type": "code",
   "execution_count": null,
   "metadata": {
    "collapsed": false
   },
   "outputs": [],
   "source": [
    "#count delay per stop\n",
    "\n",
    "train_stops_delay = {}\n",
    "\n",
    "for train_stop in train_stops:\n",
    "    if train_stop not in train_stops_delay:\n",
    "        train_stops_delay[train_stop.stop_name] = 0\n",
    "    train_stops_delay[train_stop.stop_name] += train_stop.arrival_delay()\n",
    "    \n",
    "    "
   ]
  },
  {
   "cell_type": "code",
   "execution_count": null,
   "metadata": {
    "collapsed": false
   },
   "outputs": [],
   "source": [
    "train_stops_delay"
   ]
  },
  {
   "cell_type": "code",
   "execution_count": null,
   "metadata": {
    "collapsed": false
   },
   "outputs": [],
   "source": [
    "sorted_by_delay = sorted(train_stops_delay.items(), key=operator.itemgetter(1))\n",
    "sorted_by_delay"
   ]
  },
  {
   "cell_type": "code",
   "execution_count": null,
   "metadata": {
    "collapsed": false
   },
   "outputs": [],
   "source": [
    "train_stops_delay[\"Genève\"]"
   ]
  },
  {
   "cell_type": "code",
   "execution_count": null,
   "metadata": {
    "collapsed": false,
    "scrolled": true
   },
   "outputs": [],
   "source": [
    "station_names = []\n",
    "for station_name in train_stops_delay:\n",
    "    station_names.append(station_name)\n",
    "\n",
    "save_to_file(get_locations(station_names))"
   ]
  },
  {
   "cell_type": "code",
   "execution_count": null,
   "metadata": {
    "collapsed": true
   },
   "outputs": [],
   "source": []
  }
 ],
 "metadata": {
  "kernelspec": {
   "display_name": "Python 3",
   "language": "python",
   "name": "python3"
  },
  "language_info": {
   "codemirror_mode": {
    "name": "ipython",
    "version": 3
   },
   "file_extension": ".py",
   "mimetype": "text/x-python",
   "name": "python",
   "nbconvert_exporter": "python",
   "pygments_lexer": "ipython3",
   "version": "3.5.2"
  }
 },
 "nbformat": 4,
 "nbformat_minor": 1
}
