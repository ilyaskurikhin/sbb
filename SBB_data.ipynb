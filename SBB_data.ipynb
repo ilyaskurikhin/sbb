{
 "cells": [
  {
   "cell_type": "code",
   "execution_count": null,
   "metadata": {
    "collapsed": false
   },
   "outputs": [],
   "source": [
    "import csv\n",
    "import operator\n",
    "import datetime\n",
    "import os\n",
    "\n",
    "from trainstop import *\n",
    "from locations import *\n",
    "from dateconversion import *"
   ]
  },
  {
   "cell_type": "code",
   "execution_count": null,
   "metadata": {
    "collapsed": false,
    "scrolled": true
   },
   "outputs": [],
   "source": [
    "#import data from all files\n",
    "data_by_date = {}\n",
    "\n",
    "for filename in os.listdir('./data'):\n",
    "    date = datetime.date(int(filename[0:4]),int(filename[5:7]),int(filename[8:10]))\n",
    "    file = open(\"data/\" + date.isoformat() + \"_IstDaten.csv\")\n",
    "    data_by_date[date] = csv.DictReader(file, delimiter=';')\n",
    "\n",
    "#import data from files\n",
    "train_stops = []\n",
    "    \n",
    "for date in data_by_date:\n",
    "    for train in data_by_date[date]:\n",
    "        train_stops.append(create_train_stop(train))\n"
   ]
  },
  {
   "cell_type": "code",
   "execution_count": null,
   "metadata": {
    "collapsed": false
   },
   "outputs": [],
   "source": [
    "#import data from one file\n",
    "file = open(\"data/2016-10-12_IstDaten.csv\")\n",
    "reader = csv.DictReader(file,delimiter=';')\n",
    "\n",
    "train_stops = []\n",
    "for train in reader:\n",
    "    train_stops.append(TrainStop(train))"
   ]
  },
  {
   "cell_type": "code",
   "execution_count": null,
   "metadata": {
    "collapsed": false
   },
   "outputs": [],
   "source": []
  },
  {
   "cell_type": "code",
   "execution_count": null,
   "metadata": {
    "collapsed": false
   },
   "outputs": [],
   "source": [
    "#count delay per stop\n",
    "\n",
    "train_stops_delay = {}\n",
    "\n",
    "for train_stop in train_stops:\n",
    "    if train_stop not in train_stops_delay:\n",
    "        train_stops_delay[train_stop.stop_name] = 0\n",
    "    train_stops_delay[train_stop.stop_name] += train_stop.arrival_delay()\n",
    "    \n",
    "    "
   ]
  },
  {
   "cell_type": "code",
   "execution_count": null,
   "metadata": {
    "collapsed": false
   },
   "outputs": [],
   "source": [
    "train_stops_delay"
   ]
  },
  {
   "cell_type": "code",
   "execution_count": null,
   "metadata": {
    "collapsed": false
   },
   "outputs": [],
   "source": [
    "sorted_by_delay = sorted(train_stops_delay.items(), key=operator.itemgetter(1))\n",
    "sorted_by_delay"
   ]
  },
  {
   "cell_type": "code",
   "execution_count": null,
   "metadata": {
    "collapsed": false
   },
   "outputs": [],
   "source": [
    "train_stops_delay[\"Genève\"]"
   ]
  },
  {
   "cell_type": "code",
   "execution_count": null,
   "metadata": {
    "collapsed": false,
    "scrolled": true
   },
   "outputs": [],
   "source": [
    "station_names = []\n",
    "for station_name in train_stops_delay:\n",
    "    station_names.append(station_name)\n",
    "\n",
    "save_to_file(get_locations(station_names))"
   ]
  },
  {
   "cell_type": "code",
   "execution_count": 3,
   "metadata": {
    "collapsed": false
   },
   "outputs": [
    {
     "ename": "ImportError",
     "evalue": "No module named 'mpl_toolkits.basemap'",
     "output_type": "error",
     "traceback": [
      "\u001b[0;31m---------------------------------------------------------------------------\u001b[0m",
      "\u001b[0;31mImportError\u001b[0m                               Traceback (most recent call last)",
      "\u001b[0;32m<ipython-input-3-fd4c905cac42>\u001b[0m in \u001b[0;36m<module>\u001b[0;34m()\u001b[0m\n\u001b[0;32m----> 1\u001b[0;31m \u001b[0;32mfrom\u001b[0m \u001b[0mmpl_toolkits\u001b[0m\u001b[0;34m.\u001b[0m\u001b[0mbasemap\u001b[0m \u001b[0;32mimport\u001b[0m \u001b[0mBasemap\u001b[0m\u001b[0;34m,\u001b[0m \u001b[0mshiftgrid\u001b[0m\u001b[0;34m,\u001b[0m \u001b[0mcm\u001b[0m\u001b[0;34m\u001b[0m\u001b[0m\n\u001b[0m\u001b[1;32m      2\u001b[0m \u001b[0;32mimport\u001b[0m \u001b[0mnumpy\u001b[0m \u001b[0;32mas\u001b[0m \u001b[0mnp\u001b[0m\u001b[0;34m\u001b[0m\u001b[0m\n\u001b[1;32m      3\u001b[0m \u001b[0;32mimport\u001b[0m \u001b[0mmatplotlib\u001b[0m\u001b[0;34m.\u001b[0m\u001b[0mpyplot\u001b[0m \u001b[0;32mas\u001b[0m \u001b[0mplt\u001b[0m\u001b[0;34m\u001b[0m\u001b[0m\n\u001b[1;32m      4\u001b[0m \u001b[0;32mfrom\u001b[0m \u001b[0mnetCDF4\u001b[0m \u001b[0;32mimport\u001b[0m \u001b[0mDataset\u001b[0m\u001b[0;34m\u001b[0m\u001b[0m\n\u001b[1;32m      5\u001b[0m \u001b[0;34m\u001b[0m\u001b[0m\n",
      "\u001b[0;31mImportError\u001b[0m: No module named 'mpl_toolkits.basemap'"
     ]
    }
   ],
   "source": [
    "from mpl_toolkits.basemap import Basemap, shiftgrid, cm\n",
    "import numpy as np\n",
    "import matplotlib.pyplot as plt\n",
    "from netCDF4 import Dataset\n",
    "\n",
    "# read in etopo5 topography/bathymetry.\n",
    "url = 'http://ferret.pmel.noaa.gov/thredds/dodsC/data/PMEL/etopo5.nc'\n",
    "etopodata = Dataset(url)\n",
    "\n",
    "topoin = etopodata.variables['ROSE'][:]\n",
    "lons = etopodata.variables['ETOPO05_X'][:]\n",
    "lats = etopodata.variables['ETOPO05_Y'][:]\n",
    "# shift data so lons go from -180 to 180 instead of 20 to 380.\n",
    "topoin,lons = shiftgrid(180.,topoin,lons,start=False)\n",
    "\n",
    "# plot topography/bathymetry as an image.\n",
    "\n",
    "# create the figure and axes instances.\n",
    "fig = plt.figure()\n",
    "ax = fig.add_axes([0.1,0.1,0.8,0.8])\n",
    "# setup of basemap ('lcc' = lambert conformal conic).\n",
    "# use major and minor sphere radii from WGS84 ellipsoid.\n",
    "m = Basemap(llcrnrlon=-145.5,llcrnrlat=1.,urcrnrlon=-2.566,urcrnrlat=46.352,\\\n",
    "            rsphere=(6378137.00,6356752.3142),\\\n",
    "            resolution='l',area_thresh=1000.,projection='lcc',\\\n",
    "            lat_1=50.,lon_0=-107.,ax=ax)\n",
    "# transform to nx x ny regularly spaced 5km native projection grid\n",
    "nx = int((m.xmax-m.xmin)/5000.)+1; ny = int((m.ymax-m.ymin)/5000.)+1\n",
    "topodat = m.transform_scalar(topoin,lons,lats,nx,ny)\n",
    "# plot image over map with imshow.\n",
    "im = m.imshow(topodat,cm.GMT_haxby)\n",
    "# draw coastlines and political boundaries.\n",
    "m.drawcoastlines()\n",
    "m.drawcountries()\n",
    "m.drawstates()\n",
    "# draw parallels and meridians.\n",
    "# label on left and bottom of map.\n",
    "parallels = np.arange(0.,80,20.)\n",
    "m.drawparallels(parallels,labels=[1,0,0,1])\n",
    "meridians = np.arange(10.,360.,30.)\n",
    "m.drawmeridians(meridians,labels=[1,0,0,1])\n",
    "# add colorbar\n",
    "cb = m.colorbar(im,\"right\", size=\"5%\", pad='2%')\n",
    "ax.set_title('ETOPO5 Topography - Lambert Conformal Conic')\n",
    "plt.show()"
   ]
  },
  {
   "cell_type": "code",
   "execution_count": null,
   "metadata": {
    "collapsed": true
   },
   "outputs": [],
   "source": []
  }
 ],
 "metadata": {
  "kernelspec": {
   "display_name": "Python 3",
   "language": "python",
   "name": "python3"
  },
  "language_info": {
   "codemirror_mode": {
    "name": "ipython",
    "version": 3
   },
   "file_extension": ".py",
   "mimetype": "text/x-python",
   "name": "python",
   "nbconvert_exporter": "python",
   "pygments_lexer": "ipython3",
   "version": "3.5.2"
  }
 },
 "nbformat": 4,
 "nbformat_minor": 1
}
